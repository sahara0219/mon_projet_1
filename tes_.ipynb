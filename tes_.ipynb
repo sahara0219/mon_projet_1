{
 "cells": [
  {
   "cell_type": "code",
   "execution_count": null,
   "id": "c37d4fd9",
   "metadata": {},
   "outputs": [],
   "source": []
  },
  {
   "cell_type": "code",
   "execution_count": 37,
   "id": "5850f806",
   "metadata": {},
   "outputs": [],
   "source": [
    "import pandas as pd \n",
    "import streamlit as st \n",
    "import plotly_express as px \n",
    "import nbformat as nbf"
   ]
  },
  {
   "cell_type": "code",
   "execution_count": 38,
   "id": "84b20614",
   "metadata": {},
   "outputs": [],
   "source": [
    "vehiculos = pd.read_csv(\"vehicles_us (1).csv\",sep=';') #lectura del archivo csv"
   ]
  },
  {
   "cell_type": "code",
   "execution_count": 39,
   "id": "fb276cac",
   "metadata": {},
   "outputs": [],
   "source": [
    "def pri_vista(data):\n",
    "    print()\n",
    "    print(vehiculos.info())\n",
    "    print()\n",
    "    print('filas duplicadas:')\n",
    "    print(vehiculos.duplicated().sum())\n",
    "    print()\n",
    "    print('columnas con valores ausentes ')\n",
    "    print(vehiculos.isna().sum())\n",
    "    print()\n"
   ]
  },
  {
   "cell_type": "code",
   "execution_count": 40,
   "id": "21867b8d",
   "metadata": {},
   "outputs": [
    {
     "name": "stdout",
     "output_type": "stream",
     "text": [
      "\n",
      "\n",
      "<class 'pandas.core.frame.DataFrame'>\n",
      "RangeIndex: 51525 entries, 0 to 51524\n",
      "Data columns (total 1 columns):\n",
      " #   Column                                                                                                                 Non-Null Count  Dtype \n",
      "---  ------                                                                                                                 --------------  ----- \n",
      " 0   price,model_year,model,condition,cylinders,fuel,odometer,transmission,type,paint_color,is_4wd,date_posted,days_listed  51525 non-null  object\n",
      "dtypes: object(1)\n",
      "memory usage: 402.7+ KB\n",
      "None\n",
      "\n",
      "filas duplicadas:\n",
      "0\n",
      "\n",
      "columnas con valores ausentes \n",
      "price,model_year,model,condition,cylinders,fuel,odometer,transmission,type,paint_color,is_4wd,date_posted,days_listed    0\n",
      "dtype: int64\n",
      "\n"
     ]
    }
   ],
   "source": [
    "vehiculos.head()\n",
    "print()\n",
    "pri_vista(vehiculos)"
   ]
  },
  {
   "cell_type": "code",
   "execution_count": null,
   "id": "3e19c072",
   "metadata": {},
   "outputs": [],
   "source": []
  }
 ],
 "metadata": {
  "kernelspec": {
   "display_name": "myenv",
   "language": "python",
   "name": "python3"
  },
  "language_info": {
   "codemirror_mode": {
    "name": "ipython",
    "version": 3
   },
   "file_extension": ".py",
   "mimetype": "text/x-python",
   "name": "python",
   "nbconvert_exporter": "python",
   "pygments_lexer": "ipython3",
   "version": "3.13.5"
  }
 },
 "nbformat": 4,
 "nbformat_minor": 5
}
