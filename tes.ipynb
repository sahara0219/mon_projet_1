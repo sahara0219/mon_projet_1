{
 "cells": [
  {
   "cell_type": "code",
   "execution_count": 13,
   "id": "be7ecb0d",
   "metadata": {},
   "outputs": [],
   "source": [
    "import pandas as pd \n",
    "import streamlit as st \n",
    "import plotly_express as px \n",
    "\n",
    "veiculos = pd.read_csv(\"vehicles_us (1).csv\") \n",
    "\n"
   ]
  },
  {
   "cell_type": "code",
   "execution_count": null,
   "id": "b3a1a33b",
   "metadata": {},
   "outputs": [],
   "source": [
    "vehiculos.to_csv(\"veiculos.csv\", index=False)"
   ]
  },
  {
   "cell_type": "code",
   "execution_count": null,
   "id": "3851ca4b",
   "metadata": {},
   "outputs": [
    {
     "name": "stdout",
     "output_type": "stream",
     "text": [
      "veiculos\n"
     ]
    }
   ],
   "source": []
  }
 ],
 "metadata": {
  "kernelspec": {
   "display_name": "myenv",
   "language": "python",
   "name": "python3"
  },
  "language_info": {
   "codemirror_mode": {
    "name": "ipython",
    "version": 3
   },
   "file_extension": ".py",
   "mimetype": "text/x-python",
   "name": "python",
   "nbconvert_exporter": "python",
   "pygments_lexer": "ipython3",
   "version": "3.13.5"
  }
 },
 "nbformat": 4,
 "nbformat_minor": 5
}
